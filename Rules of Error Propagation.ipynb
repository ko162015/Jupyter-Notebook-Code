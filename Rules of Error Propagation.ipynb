{
 "cells": [
  {
   "cell_type": "code",
   "execution_count": 3,
   "id": "d29fc163",
   "metadata": {},
   "outputs": [
    {
     "name": "stdout",
     "output_type": "stream",
     "text": [
      "0.01414213562373095\n"
     ]
    }
   ],
   "source": [
    "import numpy as np\n",
    "def rule3(da,db):\n",
    "    dQ=np.sqrt(da**2+db**2)\n",
    "    return dQ\n",
    "\n",
    "d1=1.2\n",
    "d2=1.3\n",
    "errd1=0.01\n",
    "errd2=0.01\n",
    "errdtotal=rule3(errd1,errd2)\n",
    "print (errdtotal)\n"
   ]
  },
  {
   "cell_type": "code",
   "execution_count": 4,
   "id": "4e4bd391",
   "metadata": {},
   "outputs": [],
   "source": [
    "import numpy as np\n",
    "def rule1(c,da):\n",
    "    dQ=np.abs(c)*da\n",
    "    return dQ\n"
   ]
  },
  {
   "cell_type": "code",
   "execution_count": 7,
   "id": "ceaa3329",
   "metadata": {},
   "outputs": [],
   "source": [
    "import numpy as np\n",
    "def rule2(c,m,a,da):\n",
    "    dQ=np.abs[c*m*a**(m-1)]*da\n",
    "    return dQ"
   ]
  },
  {
   "cell_type": "code",
   "execution_count": 13,
   "id": "7f2753a6",
   "metadata": {},
   "outputs": [
    {
     "name": "stdout",
     "output_type": "stream",
     "text": [
      "0.04785842014112915\n"
     ]
    }
   ],
   "source": [
    "import numpy as np\n",
    "def rule4(da,db,a,b,m,n,Q):\n",
    "    dQ=np.abs(Q)*(np.sqrt((m*da/a)**2+(n*db/b)**2))\n",
    "    return dQ\n",
    "\n",
    "a=0.985\n",
    "b=0.921\n",
    "da=.0005\n",
    "db=0.0215\n",
    "m=-0.5\n",
    "n=1\n",
    "Q=2.05\n",
    "errdtotal = rule4(da,db,a,b,m,n,Q)\n",
    "print (errdtotal)\n",
    "\n"
   ]
  },
  {
   "cell_type": "code",
   "execution_count": 14,
   "id": "a7a1bed5",
   "metadata": {},
   "outputs": [],
   "source": [
    "#The uncertainty in velocity for method 2 using python notebook is the same value we calculated by hand \n",
    "#in our lab. The values are equal to 0.04786\n"
   ]
  },
  {
   "cell_type": "code",
   "execution_count": 23,
   "id": "2018c77d",
   "metadata": {},
   "outputs": [
    {
     "name": "stdout",
     "output_type": "stream",
     "text": [
      "The average is= 1.1166666666666667 . The standard deviation is= 0.17950549357115014 .\n"
     ]
    }
   ],
   "source": [
    "import numpy as np\n",
    "x=np.array([1.1,1.3,1.4,0.9,0.95,1.05])\n",
    "avg=np.average(x)\n",
    "stddev=np.std(x)\n",
    "\n",
    "print(\"The average is=\", avg, \". The standard deviation is=\",stddev,\".\")"
   ]
  },
  {
   "cell_type": "markdown",
   "id": "1250c5b9",
   "metadata": {},
   "source": [
    "$\\delta Q=\\sqrt{(\\delta A)^2+(\\delta B)^2}$"
   ]
  },
  {
   "cell_type": "markdown",
   "id": "3ebf599b",
   "metadata": {},
   "source": [
    "$\\delta V=V*\\sqrt{(m*\\delta A/A)^2+(n*\\delta B/B)^2}$"
   ]
  },
  {
   "cell_type": "code",
   "execution_count": null,
   "id": "a33329e5",
   "metadata": {},
   "outputs": [],
   "source": []
  }
 ],
 "metadata": {
  "kernelspec": {
   "display_name": "Python 3",
   "language": "python",
   "name": "python3"
  },
  "language_info": {
   "codemirror_mode": {
    "name": "ipython",
    "version": 3
   },
   "file_extension": ".py",
   "mimetype": "text/x-python",
   "name": "python",
   "nbconvert_exporter": "python",
   "pygments_lexer": "ipython3",
   "version": "3.8.8"
  }
 },
 "nbformat": 4,
 "nbformat_minor": 5
}
